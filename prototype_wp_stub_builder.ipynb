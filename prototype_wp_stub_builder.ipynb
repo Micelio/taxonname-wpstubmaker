{
 "cells": [
  {
   "cell_type": "code",
   "execution_count": 1,
   "metadata": {},
   "outputs": [],
   "source": [
    "import taxon\n",
    "import gui_widgets"
   ]
  },
  {
   "cell_type": "markdown",
   "metadata": {},
   "source": [
    "# Wikidata Workflow"
   ]
  },
  {
   "cell_type": "markdown",
   "metadata": {},
   "source": [
    "## Login to Wikidata"
   ]
  },
  {
   "cell_type": "code",
   "execution_count": 2,
   "metadata": {},
   "outputs": [
    {
     "data": {
      "application/vnd.jupyter.widget-view+json": {
       "model_id": "130affdfa8544a81939f3776b075c11f",
       "version_major": 2,
       "version_minor": 0
      },
      "text/plain": [
       "TwoByTwoLayout(children=(Image(value=b'\\x89PNG\\r\\n\\x1a\\n\\x00\\x00\\x00\\rIHDR\\x00\\x00\\x00\\xc8\\x00\\x00\\x00\\x8d\\x08…"
      ]
     },
     "metadata": {},
     "output_type": "display_data"
    }
   ],
   "source": [
    "login_panel = gui_widgets.wikidata_login()\n",
    "login_panel.widget"
   ]
  },
  {
   "cell_type": "markdown",
   "metadata": {},
   "source": [
    "## Fetch data from iNaturalist, GBIF and Wikidata "
   ]
  },
  {
   "cell_type": "code",
   "execution_count": 2,
   "metadata": {},
   "outputs": [
    {
     "data": {
      "application/vnd.jupyter.widget-view+json": {
       "model_id": "fafedbc3816545a987157e2ba580cfa4",
       "version_major": 2,
       "version_minor": 0
      },
      "text/plain": [
       "interactive(children=(Text(value='', description='inaturalist_id'), Button(description='Run Interact', style=B…"
      ]
     },
     "metadata": {},
     "output_type": "display_data"
    }
   ],
   "source": [
    "def get_data(inaturalist_id):\n",
    "    return taxon.external_data(inaturalist_id=inaturalist_id)\n",
    "\n",
    "taxon_data = gui_widgets.interact_manual(get_data, inaturalist_id=\"\")\n",
    "\n"
   ]
  },
  {
   "cell_type": "markdown",
   "metadata": {},
   "source": [
    "## Update Wikidata with data from iNaturalist and GBIF "
   ]
  },
  {
   "cell_type": "code",
   "execution_count": 8,
   "metadata": {},
   "outputs": [
    {
     "name": "stdout",
     "output_type": "stream",
     "text": [
      "                                      taxon inatTaxonId       taxonname  \\\n",
      "0  http://www.wikidata.org/entity/Q13565318      626227  Ypthima sesara   \n",
      "\n",
      "  gBifTaxonId  \n",
      "0     1907569  \n"
     ]
    },
    {
     "data": {
      "text/plain": [
       "'Q13565318'"
      ]
     },
     "execution_count": 8,
     "metadata": {},
     "output_type": "execute_result"
    }
   ],
   "source": [
    "taxon_data.widget.result.login = login_panel.login.login\n",
    "taxon_data.widget.result.update_wikidata()\n"
   ]
  },
  {
   "cell_type": "markdown",
   "metadata": {},
   "source": [
    "# Commons workflow"
   ]
  },
  {
   "cell_type": "code",
   "execution_count": 10,
   "metadata": {},
   "outputs": [
    {
     "data": {
      "text/plain": [
       "taxon          http://www.wikidata.org/entity/Q13565318\n",
       "inatTaxonId                                      626227\n",
       "taxonname                                Ypthima sesara\n",
       "gBifTaxonId                                     1907569\n",
       "Name: 0, dtype: object"
      ]
     },
     "execution_count": 10,
     "metadata": {},
     "output_type": "execute_result"
    }
   ],
   "source": [
    "taxon_data.widget.result.wikidata[\"main_rank\"].loc[0]"
   ]
  },
  {
   "cell_type": "code",
   "execution_count": 31,
   "metadata": {},
   "outputs": [
    {
     "data": {
      "text/plain": [
       "0"
      ]
     },
     "execution_count": 31,
     "metadata": {},
     "output_type": "execute_result"
    }
   ],
   "source": [
    "from wikidataintegrator import wdi_core\n",
    "commons_query = \"\"\"\n",
    "    SELECT * WHERE {{?commons schema:about <{taxon}>  ; \n",
    "                schema:isPartOf <https://commons.wikimedia.org/> . \n",
    "    }}\"\"\".format(taxon = taxon_data.widget.result.wikidata[\"main_rank\"].loc[0][\"taxon\"])\n",
    "commons_query_result = wdi_core.WDItemEngine.execute_sparql_query(commons_query, as_dataframe=True)\n",
    "\n",
    "print(\")"
   ]
  },
  {
   "cell_type": "code",
   "execution_count": 16,
   "metadata": {},
   "outputs": [
    {
     "data": {
      "text/plain": [
       "'http://www.wikidata.org/entity/Q13565318'"
      ]
     },
     "execution_count": 16,
     "metadata": {},
     "output_type": "execute_result"
    }
   ],
   "source": [
    "taxon_data.widget.result.wikidata[\"main_rank\"].loc[0][\"taxon\"]"
   ]
  },
  {
   "cell_type": "code",
   "execution_count": 36,
   "metadata": {},
   "outputs": [
    {
     "name": "stdout",
     "output_type": "stream",
     "text": [
      "https://commons.wikimedia.org/w/index.php?title=Category:Ypthima_sesara&action=edit\n",
      "[[Category:Ypthima|sesara]]\n"
     ]
    }
   ],
   "source": [
    "print(\"https://commons.wikimedia.org/w/index.php?title=Category:\"+taxon_data.widget.result.inaturalist_data[0][\"name\"].replace(\" \", \"_\")+\"&action=edit\")\n",
    "print(\"[[Category:\"+taxon_data.widget.result.inaturalist_data[0][\"name\"].replace(\" \", \"|\")+\"]]\")"
   ]
  },
  {
   "cell_type": "code",
   "execution_count": 3,
   "metadata": {},
   "outputs": [
    {
     "name": "stdout",
     "output_type": "stream",
     "text": [
      "Commons file: Ypthima sesara 31615442.jpg\n"
     ]
    }
   ],
   "source": [
    "infoboximage=input(\"Commons file: \")"
   ]
  },
  {
   "cell_type": "markdown",
   "metadata": {},
   "source": [
    "# Draft Wikipedia article"
   ]
  },
  {
   "cell_type": "code",
   "execution_count": 4,
   "metadata": {},
   "outputs": [
    {
     "name": "stdout",
     "output_type": "stream",
     "text": [
      "https://en.wikipedia.org/wiki/Ypthima_sesara\n"
     ]
    }
   ],
   "source": [
    "print(\"https://en.wikipedia.org/wiki/\"+taxon_data.widget.result.inaturalist_data[0][\"name\"].replace(\" \", \"_\"))"
   ]
  },
  {
   "cell_type": "code",
   "execution_count": 4,
   "metadata": {},
   "outputs": [
    {
     "name": "stdout",
     "output_type": "stream",
     "text": [
      "{{Speciesbox \n",
      "| image = Ypthima sesara 31615442.jpg\n",
      "| parent = Ypthima\n",
      "| taxon = Ypthima sesara\n",
      "| authority = Hewitson, 1865\n",
      "}}\n",
      "\n",
      "'''''Ypthima sesara''''', also known by its common name '''Common Fijian Ringlet''' is a [[species]] from the [[genus]] [[Ypthima]] <ref name=\"inaturalist-Ypthima sesara\">{{cite web |title=Ypthima sesara |url=https://www.inaturalist.org/taxa/626227-Ypthima-sesara |website=iNaturalist |access-date=2020-12-26 |language=en}}</ref>. \n",
      "\n",
      "==References==\n",
      "{{Reflist}}\n",
      "{{Commons}}\n",
      "{{Taxonbar|from=Q1757991}}\n",
      "{{stub}}\n"
     ]
    }
   ],
   "source": [
    "print(taxon_data.widget.result.create_wikipedia_stub(infobox_image=infoboximage)) "
   ]
  },
  {
   "cell_type": "code",
   "execution_count": null,
   "metadata": {},
   "outputs": [],
   "source": [
    "626227"
   ]
  }
 ],
 "metadata": {
  "kernelspec": {
   "display_name": "Python 3",
   "language": "python",
   "name": "python3"
  },
  "language_info": {
   "codemirror_mode": {
    "name": "ipython",
    "version": 3
   },
   "file_extension": ".py",
   "mimetype": "text/x-python",
   "name": "python",
   "nbconvert_exporter": "python",
   "pygments_lexer": "ipython3",
   "version": "3.7.3"
  }
 },
 "nbformat": 4,
 "nbformat_minor": 4
}
