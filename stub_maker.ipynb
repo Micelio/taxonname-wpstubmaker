{
 "cells": [
  {
   "cell_type": "code",
   "execution_count": 1,
   "metadata": {},
   "outputs": [],
   "source": [
    "import taxon\n",
    "import gui_widgets\n",
    "from wikidataintegrator import wdi_core\n"
   ]
  },
  {
   "cell_type": "code",
   "execution_count": 34,
   "metadata": {},
   "outputs": [
    {
     "data": {
      "application/vnd.jupyter.widget-view+json": {
       "model_id": "5ba4250f5f374d07930408948edeedd9",
       "version_major": 2,
       "version_minor": 0
      },
      "text/plain": [
       "Tab(children=(Output(), Output(), Output(), Output(), Output()), _titles={'0': 'iNaturalist', '1': 'GBIF', '2'…"
      ]
     },
     "metadata": {},
     "output_type": "display_data"
    }
   ],
   "source": [
    "import ipywidgets as widgets\n",
    "from IPython.display import IFrame\n",
    "tab1 = widgets.Output()\n",
    "tab2 = widgets.Output()\n",
    "tab3 = widgets.Output()\n",
    "tab4 = widgets.Output()\n",
    "tab5 = widgets.Output()\n",
    "tab = widgets.Tab(children=[tab1,tab2, tab3, tab4, tab5])\n",
    "tab\n",
    "\n",
    "iNaturalistTab = IFrame(src='https://www.inaturalist.org/home', width=1000, height=600)\n",
    "tab.set_title(0, 'iNaturalist') \n",
    "tab.set_title(1, 'GBIF')\n",
    "tab.set_title(2, 'Wikidata')\n",
    "tab.set_title(3, 'Commons')\n",
    "tab.set_title(4, 'Wikipedia')\n",
    "\n",
    "with tab1:\n",
    "    def paste_commons(commons_file_name):\n",
    "        return commons_file_name\n",
    "    def get_data(taxon_id):\n",
    "        global data\n",
    "        data = taxon.external_data(inaturalist_id=taxon_id)\n",
    "        html = \"<img src='\"+data.inaturalist_data[0]['default_photo']['medium_url']+\"'><br>\"+data.inaturalist_data[0]['default_photo']['attribution']\n",
    "        output_widget = widgets.HTML(value=html)\n",
    "        with tab2:\n",
    "            html2 = \"<table>\"\n",
    "            for key in data.gbif_data.keys():\n",
    "                html2 += \"<tr><td>{}</td><td>{}</td></tr>\".format(key, data.gbif_data[key])\n",
    "            html2 += \"</table>\"\n",
    "            gbif_output = widgets.HTML(value=html2)\n",
    "            display(gbif_output)\n",
    "        with tab4:\n",
    "            commons_query = \"\"\"\n",
    "                SELECT * WHERE {{?commons schema:about <{taxon}>  ; \n",
    "                schema:isPartOf <https://commons.wikimedia.org/> . \n",
    "                }}\"\"\".format(taxon = data.wikidata[\"main_rank\"].loc[0][\"taxon\"])\n",
    "            commons_query_result = wdi_core.WDItemEngine.execute_sparql_query(commons_query, as_dataframe=True)\n",
    "            if len(commons_query_result) == 0:\n",
    "                html4 = \"<a href = 'https://commons.wikimedia.org/w/index.php?title=Category:\"+data.inaturalist_data[0][\"name\"].replace(\" \", \"_\")+\"&action=edit'>create commons category</a><br>\"\n",
    "                html4 += \"[[Category:\"+data.inaturalist_data[0][\"name\"].replace(\" \", \"|\")+\"]]\"\n",
    "            else:\n",
    "                html4 = \"<a href = '\"+data.wikidata[\"main_rank\"][\"commons\"].loc[0]+\"' target='_new'>\"+data.wikidata[\"main_rank\"][\"commons\"].loc[0]+\"</a><br>\"\n",
    "            commons_output = widgets.HTML(value=html4)\n",
    "            \n",
    "            data.selected_commons=gui_widgets.interact_manual(paste_commons, commons_file_name=\"\")\n",
    "            display(commons_output)\n",
    "        with tab5:\n",
    "            print(\"https://en.wikipedia.org/wiki/\"+data.inaturalist_data[0][\"name\"].replace(\" \", \"_\"))\n",
    "            print(\"=========================\")\n",
    "            print(data.create_wikipedia_stub(infobox_image=data.selected_commons.widget.result)) \n",
    "        return output_widget\n",
    "\n",
    "    \n",
    "    data = None\n",
    "    taxon_window = gui_widgets.interact_manual(get_data, taxon_id=\"\")\n",
    "    \n",
    "    \n",
    "    \n",
    "\n",
    "\n",
    "\n",
    "display(tab)"
   ]
  },
  {
   "cell_type": "code",
   "execution_count": 7,
   "metadata": {},
   "outputs": [
    {
     "data": {
      "text/plain": [
       "'https://commons.wikimedia.org/wiki/Category:Ypthima_sesara'"
      ]
     },
     "execution_count": 7,
     "metadata": {},
     "output_type": "execute_result"
    }
   ],
   "source": [
    "data.wikidata[\"main_rank\"][\"commons\"].loc[0]"
   ]
  },
  {
   "cell_type": "code",
   "execution_count": 30,
   "metadata": {},
   "outputs": [
    {
     "data": {
      "text/plain": [
       "'Ypthima sesara 31615442.jpg'"
      ]
     },
     "execution_count": 30,
     "metadata": {},
     "output_type": "execute_result"
    }
   ],
   "source": [
    "data.selected_commons.widget.result"
   ]
  },
  {
   "cell_type": "code",
   "execution_count": null,
   "metadata": {},
   "outputs": [],
   "source": []
  }
 ],
 "metadata": {
  "kernelspec": {
   "display_name": "PyCharm (scheduled_bots)",
   "language": "python",
   "name": "pycharm-276001b6"
  },
  "language_info": {
   "codemirror_mode": {
    "name": "ipython",
    "version": 3
   },
   "file_extension": ".py",
   "mimetype": "text/x-python",
   "name": "python",
   "nbconvert_exporter": "python",
   "pygments_lexer": "ipython3",
   "version": "3.7.3"
  }
 },
 "nbformat": 4,
 "nbformat_minor": 4
}
