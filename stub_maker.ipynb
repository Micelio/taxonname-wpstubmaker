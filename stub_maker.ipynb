{
 "cells": [
  {
   "cell_type": "code",
   "execution_count": 18,
   "metadata": {},
   "outputs": [],
   "source": [
    "import taxon\n",
    "import gui_widgets\n",
    "from wikidataintegrator import wdi_core\n",
    "import bibtexparser\n",
    "import requests\n",
    "import pandas as pd"
   ]
  },
  {
   "cell_type": "code",
   "execution_count": 19,
   "metadata": {},
   "outputs": [
    {
     "data": {
      "application/vnd.jupyter.widget-view+json": {
       "model_id": "182ac8d040a243e58ad94c08a6984ee6",
       "version_major": 2,
       "version_minor": 0
      },
      "text/plain": [
       "Tab(children=(Output(), Output(), Output(), Output(), Output(), Output()), _titles={'0': 'iNaturalist', '1': '…"
      ]
     },
     "metadata": {},
     "output_type": "display_data"
    }
   ],
   "source": [
    "import ipywidgets as widgets\n",
    "from IPython.display import IFrame\n",
    "tab1 = widgets.Output()\n",
    "tab2 = widgets.Output()\n",
    "tab3 = widgets.Output()\n",
    "tab4 = widgets.Output()\n",
    "tab5 = widgets.Output()\n",
    "tab6 = widgets.Output()\n",
    "tab = widgets.Tab(children=[tab1,tab2, tab3, tab4, tab5, tab6])\n",
    "tab\n",
    "\n",
    "iNaturalistTab = IFrame(src='https://www.inaturalist.org/home', width=1000, height=600)\n",
    "tab.set_title(0, 'iNaturalist') \n",
    "tab.set_title(1, 'GBIF')\n",
    "tab.set_title(2, 'Wikidata')\n",
    "tab.set_title(3, 'BHL')\n",
    "tab.set_title(4, 'Commons')\n",
    "tab.set_title(5, 'Wikipedia')\n",
    "\n",
    "with tab1:\n",
    "    def paste_commons(commons_file_name):\n",
    "        with tab6:\n",
    "                print(\"https://en.wikipedia.org/wiki/\"+data.inaturalist_data[0][\"name\"].replace(\" \", \"_\"))\n",
    "                print(\"=========================\")\n",
    "                print(data.create_wikipedia_stub(infobox_image=commons_file_name)) \n",
    "        return commons_file_name\n",
    "    def get_data(taxon_id):\n",
    "        global data\n",
    "        data = taxon.external_data(inaturalist_id=taxon_id)\n",
    "        html = \"<img src='\"+data.inaturalist_data[0]['default_photo']['medium_url']+\"'><br>\"+data.inaturalist_data[0]['default_photo']['attribution']\n",
    "        output_widget = widgets.HTML(value=html)\n",
    "        with tab2:\n",
    "            html2 = \"<table>\"\n",
    "            for key in data.gbif_data.keys():\n",
    "                html2 += \"<tr><td>{}</td><td>{}</td></tr>\".format(key, data.gbif_data[key])\n",
    "            html2 += \"</table>\"\n",
    "            gbif_output = widgets.HTML(value=html2)\n",
    "            display(gbif_output)\n",
    "        with tab4:\n",
    "            bhlurl = \"https://www.biodiversitylibrary.org/name/\"+data.inaturalist_data[0][\"name\"].replace(\" \", \"_\")\n",
    "            print(\"source: \", bhlurl)\n",
    "            bhlbibtexurl = \"https://www.biodiversitylibrary.org/namelistdownload/?type=b&name=\"+data.inaturalist_data[0][\"name\"].replace(\" \", \"_\")\n",
    "            bibtex = requests.get(bhlbibtexurl).text\n",
    "            bib_database = bibtexparser.loads(bibtex)\n",
    "            fields = []\n",
    "            for entry in bib_database.entries:\n",
    "                for key in entry.keys():\n",
    "                    if key not in fields:\n",
    "                        fields.append(key)\n",
    "            fields\n",
    "            df = pd.DataFrame(columns= fields)\n",
    "            df.style.set_caption(\"Hello World\")\n",
    "            for i in range(len(bib_database.entries)):\n",
    "                row = dict()\n",
    "                for key in fields:\n",
    "                    if key not in bib_database.entries[i].keys():\n",
    "                        row[key]=None\n",
    "                    else:\n",
    "                        row[key]=bib_database.entries[i][key]\n",
    "                df.loc[i] = row\n",
    "            display(df)\n",
    "        with tab5:\n",
    "            commons_query = \"\"\"\n",
    "                SELECT * WHERE {{?commons schema:about <{taxon}>  ; \n",
    "                schema:isPartOf <https://commons.wikimedia.org/> . \n",
    "                }}\"\"\".format(taxon = data.wikidata[\"main_rank\"].loc[0][\"taxon\"])\n",
    "            commons_query_result = wdi_core.WDItemEngine.execute_sparql_query(commons_query, as_dataframe=True)\n",
    "            if len(commons_query_result) == 0:\n",
    "                html5 = \"<a href = 'https://commons.wikimedia.org/w/index.php?title=Category:\"+data.inaturalist_data[0][\"name\"].replace(\" \", \"_\")+\"&action=edit'>create commons category</a><br>\"\n",
    "                html5 += \"[[Category:\"+data.inaturalist_data[0][\"name\"].replace(\" \", \"|\")+\"]]\"\n",
    "            else:\n",
    "                html5 = \"<a href = 'https://commons.wikimedia.org/wiki/Category:\"+data.inaturalist_data[0][\"name\"].replace(\" \", \"_\")+\"' target='_new'>\"+data.inaturalist_data[0][\"name\"].replace(\" \", \"_\")+\"</a><br>\"\n",
    "            commons_output = widgets.HTML(value=html5)\n",
    "            \n",
    "            data.selected_commons=gui_widgets.interact_manual(paste_commons, commons_file_name=\"\")\n",
    "            display(commons_output)\n",
    "            \n",
    "        return output_widget\n",
    "\n",
    "    \n",
    "    data = None\n",
    "    taxon_window = gui_widgets.interact_manual(get_data, taxon_id=\"\")\n",
    "    \n",
    "    \n",
    "    \n",
    "\n",
    "\n",
    "\n",
    "display(tab)"
   ]
  }
 ],
 "metadata": {
  "kernelspec": {
   "display_name": "PyCharm (scheduled_bots)",
   "language": "python",
   "name": "pycharm-276001b6"
  },
  "language_info": {
   "codemirror_mode": {
    "name": "ipython",
    "version": 3
   },
   "file_extension": ".py",
   "mimetype": "text/x-python",
   "name": "python",
   "nbconvert_exporter": "python",
   "pygments_lexer": "ipython3",
   "version": "3.7.3"
  }
 },
 "nbformat": 4,
 "nbformat_minor": 4
}
